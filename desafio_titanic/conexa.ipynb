{
 "cells": [
  {
   "cell_type": "markdown",
   "metadata": {},
   "source": [
    "<title>\n",
    "    <h1>\n",
    "        Titanic e seus dados aleatórios, ou não\n",
    "    </h1>\n",
    "</title>"
   ]
  },
  {
   "cell_type": "markdown",
   "metadata": {},
   "source": [
    "<p>\n",
    "    Essa será uma história diferente das muitas que apareceram sobre o navio que ficou mais conhecido pelo filme, do que pela tragédia em si. Sim, todos sabem que é verdade isso.\n",
    "</p>\n",
    "<p>\n",
    "    Enfim, sabemos muito sobre ele baseado no filme e no que as vezes é falado.\n",
    "</p>\n",
    "<p>\n",
    "    Mas hoje, pensaremos fora do óbvio, descobrir informações que nunca foram mostradas antes na história da TV brasileira.\n",
    "</p>\n",
    "<p>\n",
    "    Até porque todos sabem o óbvio já. Que era um navio, que bateu no iceberg e que já faz mais de 84 anos que a Rose deixou o Jack morrer, umas vez que os dois cabiam na porta.\n",
    "</p>\n",
    "<p>\n",
    "    Verdades dificeis de engolir a parte, traremos dados que poderão ou não mudar seus conceitos<s> na hora de reservar sua estada em um cruzeiro</s>.\n",
    "</p>\n",
    "<p>\n",
    "    Abaixo estão listadas as perguntas que serão respondidas com os dados:\n",
    "</p>\n"
   ]
  },
  {
   "cell_type": "markdown",
   "metadata": {},
   "source": [
    "<ul>\n",
    "    <li>Viver sozinho ou morrer acompanhado?</li>\n",
    "    <li>A relação entre os pais e os filhos afeta na sobrevivencia?</li>\n",
    "    <li>A diferença de poder aquisitivo entre homens e mulheres já era visível em 1912?</li>\n",
    "    <li>Desigualdade social faz diferença em um nalfrágio?</li>\n",
    "</ul>"
   ]
  },
  {
   "cell_type": "markdown",
   "metadata": {},
   "source": [
    "<h3>Vamos aos dados</h3>"
   ]
  },
  {
   "cell_type": "markdown",
   "metadata": {},
   "source": [
    "<p>Nessa parte será feita a preparação dos dados, alterando o que parecer necessário.</p>"
   ]
  },
  {
   "cell_type": "code",
   "execution_count": 29,
   "metadata": {},
   "outputs": [],
   "source": [
    "import pandas as pnds\n",
    "import pyarrow.parquet as pq\n",
    "import seaborn as sbn\n",
    "import matplotlib.pyplot as mplt"
   ]
  },
  {
   "cell_type": "code",
   "execution_count": 30,
   "metadata": {},
   "outputs": [
    {
     "data": {
      "text/html": [
       "<div>\n",
       "<style scoped>\n",
       "    .dataframe tbody tr th:only-of-type {\n",
       "        vertical-align: middle;\n",
       "    }\n",
       "\n",
       "    .dataframe tbody tr th {\n",
       "        vertical-align: top;\n",
       "    }\n",
       "\n",
       "    .dataframe thead th {\n",
       "        text-align: right;\n",
       "    }\n",
       "</style>\n",
       "<table border=\"1\" class=\"dataframe\">\n",
       "  <thead>\n",
       "    <tr style=\"text-align: right;\">\n",
       "      <th></th>\n",
       "      <th>name</th>\n",
       "      <th>survival</th>\n",
       "      <th>pclass</th>\n",
       "      <th>sex</th>\n",
       "      <th>age</th>\n",
       "      <th>sibsp</th>\n",
       "      <th>parch</th>\n",
       "      <th>ticket</th>\n",
       "      <th>fare</th>\n",
       "      <th>cabin</th>\n",
       "      <th>embarked</th>\n",
       "    </tr>\n",
       "  </thead>\n",
       "  <tbody>\n",
       "    <tr>\n",
       "      <th>0</th>\n",
       "      <td>Braund, Mr. Owen Harris</td>\n",
       "      <td>0.0</td>\n",
       "      <td>3</td>\n",
       "      <td>male</td>\n",
       "      <td>22.0</td>\n",
       "      <td>1</td>\n",
       "      <td>0</td>\n",
       "      <td>A/5 21171</td>\n",
       "      <td>7.2500</td>\n",
       "      <td>None</td>\n",
       "      <td>S</td>\n",
       "    </tr>\n",
       "    <tr>\n",
       "      <th>1</th>\n",
       "      <td>Cumings, Mrs. John Bradley (Florence Briggs Th...</td>\n",
       "      <td>1.0</td>\n",
       "      <td>1</td>\n",
       "      <td>female</td>\n",
       "      <td>38.0</td>\n",
       "      <td>1</td>\n",
       "      <td>0</td>\n",
       "      <td>PC 17599</td>\n",
       "      <td>71.2833</td>\n",
       "      <td>C85</td>\n",
       "      <td>C</td>\n",
       "    </tr>\n",
       "    <tr>\n",
       "      <th>2</th>\n",
       "      <td>Heikkinen, Miss. Laina</td>\n",
       "      <td>1.0</td>\n",
       "      <td>3</td>\n",
       "      <td>female</td>\n",
       "      <td>26.0</td>\n",
       "      <td>0</td>\n",
       "      <td>0</td>\n",
       "      <td>STON/O2. 3101282</td>\n",
       "      <td>7.9250</td>\n",
       "      <td>None</td>\n",
       "      <td>S</td>\n",
       "    </tr>\n",
       "    <tr>\n",
       "      <th>3</th>\n",
       "      <td>Futrelle, Mrs. Jacques Heath (Lily May Peel)</td>\n",
       "      <td>1.0</td>\n",
       "      <td>1</td>\n",
       "      <td>female</td>\n",
       "      <td>35.0</td>\n",
       "      <td>1</td>\n",
       "      <td>0</td>\n",
       "      <td>113803</td>\n",
       "      <td>53.1000</td>\n",
       "      <td>C123</td>\n",
       "      <td>S</td>\n",
       "    </tr>\n",
       "    <tr>\n",
       "      <th>4</th>\n",
       "      <td>Allen, Mr. William Henry</td>\n",
       "      <td>0.0</td>\n",
       "      <td>3</td>\n",
       "      <td>male</td>\n",
       "      <td>35.0</td>\n",
       "      <td>0</td>\n",
       "      <td>0</td>\n",
       "      <td>373450</td>\n",
       "      <td>8.0500</td>\n",
       "      <td>None</td>\n",
       "      <td>S</td>\n",
       "    </tr>\n",
       "  </tbody>\n",
       "</table>\n",
       "</div>"
      ],
      "text/plain": [
       "                                                name  survival  pclass  \\\n",
       "0                            Braund, Mr. Owen Harris       0.0       3   \n",
       "1  Cumings, Mrs. John Bradley (Florence Briggs Th...       1.0       1   \n",
       "2                             Heikkinen, Miss. Laina       1.0       3   \n",
       "3       Futrelle, Mrs. Jacques Heath (Lily May Peel)       1.0       1   \n",
       "4                           Allen, Mr. William Henry       0.0       3   \n",
       "\n",
       "      sex   age  sibsp  parch            ticket     fare cabin embarked  \n",
       "0    male  22.0      1      0         A/5 21171   7.2500  None        S  \n",
       "1  female  38.0      1      0          PC 17599  71.2833   C85        C  \n",
       "2  female  26.0      0      0  STON/O2. 3101282   7.9250  None        S  \n",
       "3  female  35.0      1      0            113803  53.1000  C123        S  \n",
       "4    male  35.0      0      0            373450   8.0500  None        S  "
      ]
     },
     "execution_count": 30,
     "metadata": {},
     "output_type": "execute_result"
    }
   ],
   "source": [
    "titanic = pq.read_table(source='titanic.parquet').to_pandas()\n",
    "titanic.head()"
   ]
  },
  {
   "cell_type": "markdown",
   "metadata": {},
   "source": [
    "<p>\n",
    "    Foi encontrada uma grande dificuldade no momento de importar os dados que estavam no formato parquet, depois de certa peleja foi encontrada a solução através do pyrrow.\n",
    "</p>\n",
    "<p>\n",
    "    A fim de manter uma visualização mais limpa, vamos retirar algumas informações que não terão valia para as análises que serão realizadas.\n",
    "</p>"
   ]
  },
  {
   "cell_type": "code",
   "execution_count": 31,
   "metadata": {},
   "outputs": [
    {
     "data": {
      "text/html": [
       "<div>\n",
       "<style scoped>\n",
       "    .dataframe tbody tr th:only-of-type {\n",
       "        vertical-align: middle;\n",
       "    }\n",
       "\n",
       "    .dataframe tbody tr th {\n",
       "        vertical-align: top;\n",
       "    }\n",
       "\n",
       "    .dataframe thead th {\n",
       "        text-align: right;\n",
       "    }\n",
       "</style>\n",
       "<table border=\"1\" class=\"dataframe\">\n",
       "  <thead>\n",
       "    <tr style=\"text-align: right;\">\n",
       "      <th></th>\n",
       "      <th>name</th>\n",
       "      <th>survival</th>\n",
       "      <th>pclass</th>\n",
       "      <th>sex</th>\n",
       "      <th>age</th>\n",
       "      <th>sibsp</th>\n",
       "      <th>parch</th>\n",
       "    </tr>\n",
       "  </thead>\n",
       "  <tbody>\n",
       "    <tr>\n",
       "      <th>0</th>\n",
       "      <td>Braund, Mr. Owen Harris</td>\n",
       "      <td>0.0</td>\n",
       "      <td>3</td>\n",
       "      <td>male</td>\n",
       "      <td>22.0</td>\n",
       "      <td>1</td>\n",
       "      <td>0</td>\n",
       "    </tr>\n",
       "    <tr>\n",
       "      <th>1</th>\n",
       "      <td>Cumings, Mrs. John Bradley (Florence Briggs Th...</td>\n",
       "      <td>1.0</td>\n",
       "      <td>1</td>\n",
       "      <td>female</td>\n",
       "      <td>38.0</td>\n",
       "      <td>1</td>\n",
       "      <td>0</td>\n",
       "    </tr>\n",
       "    <tr>\n",
       "      <th>2</th>\n",
       "      <td>Heikkinen, Miss. Laina</td>\n",
       "      <td>1.0</td>\n",
       "      <td>3</td>\n",
       "      <td>female</td>\n",
       "      <td>26.0</td>\n",
       "      <td>0</td>\n",
       "      <td>0</td>\n",
       "    </tr>\n",
       "    <tr>\n",
       "      <th>3</th>\n",
       "      <td>Futrelle, Mrs. Jacques Heath (Lily May Peel)</td>\n",
       "      <td>1.0</td>\n",
       "      <td>1</td>\n",
       "      <td>female</td>\n",
       "      <td>35.0</td>\n",
       "      <td>1</td>\n",
       "      <td>0</td>\n",
       "    </tr>\n",
       "    <tr>\n",
       "      <th>4</th>\n",
       "      <td>Allen, Mr. William Henry</td>\n",
       "      <td>0.0</td>\n",
       "      <td>3</td>\n",
       "      <td>male</td>\n",
       "      <td>35.0</td>\n",
       "      <td>0</td>\n",
       "      <td>0</td>\n",
       "    </tr>\n",
       "  </tbody>\n",
       "</table>\n",
       "</div>"
      ],
      "text/plain": [
       "                                                name  survival  pclass  \\\n",
       "0                            Braund, Mr. Owen Harris       0.0       3   \n",
       "1  Cumings, Mrs. John Bradley (Florence Briggs Th...       1.0       1   \n",
       "2                             Heikkinen, Miss. Laina       1.0       3   \n",
       "3       Futrelle, Mrs. Jacques Heath (Lily May Peel)       1.0       1   \n",
       "4                           Allen, Mr. William Henry       0.0       3   \n",
       "\n",
       "      sex   age  sibsp  parch  \n",
       "0    male  22.0      1      0  \n",
       "1  female  38.0      1      0  \n",
       "2  female  26.0      0      0  \n",
       "3  female  35.0      1      0  \n",
       "4    male  35.0      0      0  "
      ]
     },
     "execution_count": 31,
     "metadata": {},
     "output_type": "execute_result"
    }
   ],
   "source": [
    "titanic.drop(['ticket', 'cabin', 'embarked', 'fare'], axis=1, inplace=True)\n",
    "titanic.head()"
   ]
  },
  {
   "cell_type": "markdown",
   "metadata": {},
   "source": [
    "<p>Agora que os dados parecem mais limpos, os dados terão os rótulos modificados para que a compreensão seja facilitada.</p>"
   ]
  },
  {
   "cell_type": "code",
   "execution_count": 32,
   "metadata": {},
   "outputs": [
    {
     "data": {
      "text/html": [
       "<div>\n",
       "<style scoped>\n",
       "    .dataframe tbody tr th:only-of-type {\n",
       "        vertical-align: middle;\n",
       "    }\n",
       "\n",
       "    .dataframe tbody tr th {\n",
       "        vertical-align: top;\n",
       "    }\n",
       "\n",
       "    .dataframe thead th {\n",
       "        text-align: right;\n",
       "    }\n",
       "</style>\n",
       "<table border=\"1\" class=\"dataframe\">\n",
       "  <thead>\n",
       "    <tr style=\"text-align: right;\">\n",
       "      <th></th>\n",
       "      <th>Nome</th>\n",
       "      <th>Sobrevivente</th>\n",
       "      <th>Classe</th>\n",
       "      <th>Sexo</th>\n",
       "      <th>Idade</th>\n",
       "      <th>Irmãos/Conjuges</th>\n",
       "      <th>Pais/Filhos</th>\n",
       "    </tr>\n",
       "  </thead>\n",
       "  <tbody>\n",
       "    <tr>\n",
       "      <th>0</th>\n",
       "      <td>Braund, Mr. Owen Harris</td>\n",
       "      <td>0.0</td>\n",
       "      <td>3</td>\n",
       "      <td>male</td>\n",
       "      <td>22.0</td>\n",
       "      <td>1</td>\n",
       "      <td>0</td>\n",
       "    </tr>\n",
       "    <tr>\n",
       "      <th>1</th>\n",
       "      <td>Cumings, Mrs. John Bradley (Florence Briggs Th...</td>\n",
       "      <td>1.0</td>\n",
       "      <td>1</td>\n",
       "      <td>female</td>\n",
       "      <td>38.0</td>\n",
       "      <td>1</td>\n",
       "      <td>0</td>\n",
       "    </tr>\n",
       "    <tr>\n",
       "      <th>2</th>\n",
       "      <td>Heikkinen, Miss. Laina</td>\n",
       "      <td>1.0</td>\n",
       "      <td>3</td>\n",
       "      <td>female</td>\n",
       "      <td>26.0</td>\n",
       "      <td>0</td>\n",
       "      <td>0</td>\n",
       "    </tr>\n",
       "    <tr>\n",
       "      <th>3</th>\n",
       "      <td>Futrelle, Mrs. Jacques Heath (Lily May Peel)</td>\n",
       "      <td>1.0</td>\n",
       "      <td>1</td>\n",
       "      <td>female</td>\n",
       "      <td>35.0</td>\n",
       "      <td>1</td>\n",
       "      <td>0</td>\n",
       "    </tr>\n",
       "    <tr>\n",
       "      <th>4</th>\n",
       "      <td>Allen, Mr. William Henry</td>\n",
       "      <td>0.0</td>\n",
       "      <td>3</td>\n",
       "      <td>male</td>\n",
       "      <td>35.0</td>\n",
       "      <td>0</td>\n",
       "      <td>0</td>\n",
       "    </tr>\n",
       "  </tbody>\n",
       "</table>\n",
       "</div>"
      ],
      "text/plain": [
       "                                                Nome  Sobrevivente  Classe  \\\n",
       "0                            Braund, Mr. Owen Harris           0.0       3   \n",
       "1  Cumings, Mrs. John Bradley (Florence Briggs Th...           1.0       1   \n",
       "2                             Heikkinen, Miss. Laina           1.0       3   \n",
       "3       Futrelle, Mrs. Jacques Heath (Lily May Peel)           1.0       1   \n",
       "4                           Allen, Mr. William Henry           0.0       3   \n",
       "\n",
       "     Sexo  Idade  Irmãos/Conjuges  Pais/Filhos  \n",
       "0    male   22.0                1            0  \n",
       "1  female   38.0                1            0  \n",
       "2  female   26.0                0            0  \n",
       "3  female   35.0                1            0  \n",
       "4    male   35.0                0            0  "
      ]
     },
     "execution_count": 32,
     "metadata": {},
     "output_type": "execute_result"
    }
   ],
   "source": [
    "titanic.columns=['Nome', 'Sobrevivente', 'Classe', 'Sexo', 'Idade', 'Irmãos/Conjuges', 'Pais/Filhos']\n",
    "titanic.head()"
   ]
  },
  {
   "cell_type": "markdown",
   "metadata": {},
   "source": [
    "<p>Para melhor compreenssão, iremos alterar também o idioma da coluna sexo, e mudar a sobrevivencia para SIM ou NÃO.</p>"
   ]
  },
  {
   "cell_type": "code",
   "execution_count": 33,
   "metadata": {},
   "outputs": [
    {
     "data": {
      "text/html": [
       "<div>\n",
       "<style scoped>\n",
       "    .dataframe tbody tr th:only-of-type {\n",
       "        vertical-align: middle;\n",
       "    }\n",
       "\n",
       "    .dataframe tbody tr th {\n",
       "        vertical-align: top;\n",
       "    }\n",
       "\n",
       "    .dataframe thead th {\n",
       "        text-align: right;\n",
       "    }\n",
       "</style>\n",
       "<table border=\"1\" class=\"dataframe\">\n",
       "  <thead>\n",
       "    <tr style=\"text-align: right;\">\n",
       "      <th></th>\n",
       "      <th>Nome</th>\n",
       "      <th>Sobrevivente</th>\n",
       "      <th>Classe</th>\n",
       "      <th>Sexo</th>\n",
       "      <th>Idade</th>\n",
       "      <th>Irmãos/Conjuges</th>\n",
       "      <th>Pais/Filhos</th>\n",
       "    </tr>\n",
       "  </thead>\n",
       "  <tbody>\n",
       "    <tr>\n",
       "      <th>0</th>\n",
       "      <td>Braund, Mr. Owen Harris</td>\n",
       "      <td>Não</td>\n",
       "      <td>3</td>\n",
       "      <td>Masculino</td>\n",
       "      <td>22.0</td>\n",
       "      <td>1</td>\n",
       "      <td>0</td>\n",
       "    </tr>\n",
       "    <tr>\n",
       "      <th>1</th>\n",
       "      <td>Cumings, Mrs. John Bradley (Florence Briggs Th...</td>\n",
       "      <td>Sim</td>\n",
       "      <td>1</td>\n",
       "      <td>Feminino</td>\n",
       "      <td>38.0</td>\n",
       "      <td>1</td>\n",
       "      <td>0</td>\n",
       "    </tr>\n",
       "    <tr>\n",
       "      <th>2</th>\n",
       "      <td>Heikkinen, Miss. Laina</td>\n",
       "      <td>Sim</td>\n",
       "      <td>3</td>\n",
       "      <td>Feminino</td>\n",
       "      <td>26.0</td>\n",
       "      <td>0</td>\n",
       "      <td>0</td>\n",
       "    </tr>\n",
       "    <tr>\n",
       "      <th>3</th>\n",
       "      <td>Futrelle, Mrs. Jacques Heath (Lily May Peel)</td>\n",
       "      <td>Sim</td>\n",
       "      <td>1</td>\n",
       "      <td>Feminino</td>\n",
       "      <td>35.0</td>\n",
       "      <td>1</td>\n",
       "      <td>0</td>\n",
       "    </tr>\n",
       "    <tr>\n",
       "      <th>4</th>\n",
       "      <td>Allen, Mr. William Henry</td>\n",
       "      <td>Não</td>\n",
       "      <td>3</td>\n",
       "      <td>Masculino</td>\n",
       "      <td>35.0</td>\n",
       "      <td>0</td>\n",
       "      <td>0</td>\n",
       "    </tr>\n",
       "  </tbody>\n",
       "</table>\n",
       "</div>"
      ],
      "text/plain": [
       "                                                Nome Sobrevivente  Classe  \\\n",
       "0                            Braund, Mr. Owen Harris          Não       3   \n",
       "1  Cumings, Mrs. John Bradley (Florence Briggs Th...          Sim       1   \n",
       "2                             Heikkinen, Miss. Laina          Sim       3   \n",
       "3       Futrelle, Mrs. Jacques Heath (Lily May Peel)          Sim       1   \n",
       "4                           Allen, Mr. William Henry          Não       3   \n",
       "\n",
       "        Sexo  Idade  Irmãos/Conjuges  Pais/Filhos  \n",
       "0  Masculino   22.0                1            0  \n",
       "1   Feminino   38.0                1            0  \n",
       "2   Feminino   26.0                0            0  \n",
       "3   Feminino   35.0                1            0  \n",
       "4  Masculino   35.0                0            0  "
      ]
     },
     "execution_count": 33,
     "metadata": {},
     "output_type": "execute_result"
    }
   ],
   "source": [
    "titanic['Sexo'] = titanic['Sexo'].replace(['male','female'],['Masculino','Feminino'])\n",
    "titanic['Sobrevivente'] = titanic['Sobrevivente'].replace([0,1],['Não','Sim'])\n",
    "titanic.head()"
   ]
  },
  {
   "cell_type": "markdown",
   "metadata": {},
   "source": [
    "<h4>Catálogo de Dados</h4>\n",
    "\n",
    "<table>\n",
    "    <tr>\n",
    "        <th>Campo</th>\n",
    "        <th>Descrição</th>\n",
    "    </tr>\n",
    "    <tr>\n",
    "        <td>Nome</td>\n",
    "        <td>Nome do Passageiro</td>\n",
    "    </tr>\n",
    "    <tr>\n",
    "        <td>Sobrevivente</td>\n",
    "        <td>[1]Sim / [0]Não</td>\n",
    "    </tr>\n",
    "    <tr>\n",
    "        <td>Classe</td>\n",
    "        <td>Classe do bilhete [1°,2°,3°]</td>\n",
    "    </tr>\n",
    "    <tr>\n",
    "        <td>Sexo</td>\n",
    "        <td>Sexo do Passageiro</td>\n",
    "    </tr>\n",
    "    <tr>\n",
    "        <td>Idade</td>\n",
    "        <td>Idade em anos</td>\n",
    "    </tr>\n",
    "    <tr>\n",
    "        <td>Irmãos/Conjuges</td>\n",
    "        <td>Possui irmãos/cônjuges a bordo do Titanic (0 = Não, 1 = Sim)</td>\n",
    "    </tr>\n",
    "    <tr>\n",
    "        <td>Pais/Filhos</td>\n",
    "        <td>Possui pais/filhos a bordo do Titanic (0 = Não, 1 = Sim)</td>\n",
    "    </tr>\n",
    "</table>\n",
    "\n",
    "    "
   ]
  },
  {
   "cell_type": "markdown",
   "metadata": {},
   "source": [
    "<p><small-caption>*** Não leve a mal o senso de humor da pessoa que tenta transformar dados em informações, apesar do contexto, podem ser informações relevantes ao digno leitor!</small-caption></p>"
   ]
  },
  {
   "cell_type": "markdown",
   "metadata": {},
   "source": [
    "<h3>Viver sozinho ou morrer acompanhado?</h3>\n",
    "\n",
    "<img src = '.\\images\\top1.gif'></img>\n",
    "    \n",
    "<p>\n",
    "    Ao se pensar em questões que poderiam ser levantadas, foi feita uma pesquisa a fim de se pensar em quais perguntas os dados poderiam responder. Pensando nisso, vieram várias questões, porém a maioria já vinham com meias respostas ou pareciam um tanto óbvias. Em busca de um diferencial no que diz respeito a criatividade, foi questionado se haveria relação ou correlação entre os sobreviventes e seu estado civíl ou presença de irmãos a bordo.\n",
    "</p>\n",
    "<p>\n",
    "    Pertinente ou não, abaixo veremos se os dados responderão nossas perguntas.\n",
    "</p>"
   ]
  },
  {
   "cell_type": "code",
   "execution_count": 34,
   "metadata": {},
   "outputs": [
    {
     "data": {
      "image/png": "[encoded data removed]",
      "text/plain": [
       "<Figure size 432x288 with 1 Axes>"
      ]
     },
     "metadata": {
      "needs_background": "light"
     },
     "output_type": "display_data"
    }
   ],
   "source": [
    "titanic['Irmãos/Conjuges'] = titanic['Irmãos/Conjuges'].replace([2,3,4,5,7,8], [1,1,1,1,1,1])\n",
    "titanic['Irmãos/Conjuges'] = titanic['Irmãos/Conjuges'].replace ([0,1],['Não', 'Sim'])\n",
    "top1= sbn.countplot(data=titanic, x='Sobrevivente', hue='Irmãos/Conjuges')\n",
    "\n",
    "mplt.title ('Qtde de Mortos e Sobreviventes\\n %s passageiros' % (titanic.shape[0]))\n",
    "mplt.xlabel ('Sobreviventes')\n",
    "mplt.ylabel ('Numero de Sobreviventes')\n",
    "mplt.show()"
   ]
  },
  {
   "cell_type": "markdown",
   "metadata": {},
   "source": [
    "<p>\n",
    "    Ao se buscar respostas, foi verificado que a quantidade de acompanhantes não fazia diferença para a pergunta em questão. Por esse motivo foi alterada a informação para que se soubesse se haviam acompanhantes ou não.\n",
    "</p>\n",
    "<p>\n",
    "    Pelo que podemos ver no gráfico acima, a maioria das pessoas no geral, estavam desacompanhadas de irmãos ou conjuges, porém é possível notar que há uma diferença grande nos que morreram entre os acompanhados e os desacompanhados.\n",
    "</p>\n",
    "<p>\n",
    "    Essa diferença pode nos fazer pensar que quem estava acompanhado de irmãos ou conjuges tiveram algo a mais que os fizessem sobreviver, ou que quem estava sozinho teve menos vontade ou condição de sobreviver. \n",
    "</p>"
   ]
  },
  {
   "cell_type": "markdown",
   "metadata": {},
   "source": [
    "<h3>A relação entre os pais e os filhos afeta na sobrevivencia?</h3>\n",
    "\n",
    "<img src = '.\\images\\top2.gif'></img>"
   ]
  },
  {
   "cell_type": "markdown",
   "metadata": {},
   "source": [
    "<p>\n",
    "    A priori iniciaremos a verificação de forma semelhante a anterior, para que de forma genérica, dê para saber se quem estava com seu pai, mãe ou filhos a bordo sobreviveu mais ou menos.\n",
    "</p>"
   ]
  },
  {
   "cell_type": "code",
   "execution_count": 35,
   "metadata": {},
   "outputs": [
    {
     "data": {
      "image/png": "[encoded data removed]",
      "text/plain": [
       "<Figure size 432x288 with 1 Axes>"
      ]
     },
     "metadata": {
      "needs_background": "light"
     },
     "output_type": "display_data"
    }
   ],
   "source": [
    "titanic['Pais/Filhos']=titanic['Pais/Filhos'].replace([1,2,3,4,5,6,9], [1,1,1,1,1,1,1])\n",
    "titanic['Pais/Filhos']=titanic['Pais/Filhos'].replace([1,0], ['Sim', 'Não'])\n",
    "top2 = sbn.countplot(data=titanic, x='Sobrevivente', hue='Pais/Filhos')\n",
    "\n",
    "mplt.title ('Qtde de Mortos e Sobrevivente\\n %s passageiros' % (titanic.shape[0]))\n",
    "mplt.xlabel ('Sobrevivente')\n",
    "mplt.ylabel ('Numero de Sobreviventes')\n",
    "mplt.show()"
   ]
  },
  {
   "cell_type": "markdown",
   "metadata": {},
   "source": [
    "<p>\n",
    "    Novamente vemos que a maioria estava desacompanhada de pai, mãe ou filhos. O que unido ao tópico anterior nos leva a uma nova informação: <br>\n",
    "    É possível afirmar baseado nos registros que foram passados que a maioria dos passageiros viajou sozinho. \n",
    "</p>"
   ]
  },
  {
   "cell_type": "markdown",
   "metadata": {},
   "source": [
    "<h3>A diferença de poder aquisitivo entre homens e mulheres já era visível em 1912?</h3>\n",
    "\n",
    "<img src='.\\images\\top3.gif'> </img>"
   ]
  },
  {
   "cell_type": "markdown",
   "metadata": {},
   "source": [
    "<p>\n",
    "    Nessa etapa iremos avaliar se há alguma descrepancia no que diz respeito a quantidade de homens e mulheres, dividindo esses pela Classe. Hoje em dia, graças a vários estudos relacionados ao tema, já é conhecido que os homens possuem mais patrimônio e poder aquisitivo em relação as mulheres. Porém, será que a comparação de classe ocupada no titanic pode nos trazer alguma nova informação? \n",
    "</p>"
   ]
  },
  {
   "cell_type": "code",
   "execution_count": 36,
   "metadata": {},
   "outputs": [
    {
     "data": {
      "image/png": "[encoded data removed]",
      "text/plain": [
       "<Figure size 432x288 with 1 Axes>"
      ]
     },
     "metadata": {
      "needs_background": "light"
     },
     "output_type": "display_data"
    }
   ],
   "source": [
    "top3 = sbn.countplot(data=titanic, x='Classe', hue='Sexo')\n",
    "\n",
    "mplt.title ('Separação de Homens e Mulheres por Classe \\n %s passageiros' % (titanic.shape[0]))\n",
    "mplt.xlabel ('Classe')\n",
    "mplt.ylabel ('Qtde de Pessoas')\n",
    "mplt.show()"
   ]
  },
  {
   "cell_type": "markdown",
   "metadata": {},
   "source": [
    "<p>\n",
    "    O gráfico pode ter vários pontos a serem ressaltados, como por exemplo a visivel maioria masculina que independe da classe. Outro ponto que achei necessário apontar é a grande diferença na terceira classe entre os homens e as mulheres.\n",
    "</p>\n",
    "<p>\n",
    "    Seria necessário um estudo mais aprofundado para se validar o porque dessa diferença, como cogitar que as pessoas dessa terceira classe seriam trabalhadores do navio, sendo que essa visão fez com que fosse visivel também outra questão.\n",
    "</p>\n",
    "<p>\n",
    "    Mesmo as mulheres sendo a minoria absoluta na terceira classe, elas ainda sim estão em maior quantidade que os homens da primeira ou da segunda classe, sendo  que unidas aos homens, a terceira classe consegue superar outras duas classes sozinha, o que me levou ao ultimo insight.\n",
    "</p>"
   ]
  },
  {
   "cell_type": "markdown",
   "metadata": {},
   "source": [
    "<h3>Desigualdade social faz diferença em um nalfrágio?</h3>\n",
    "\n",
    "<img src='./images/top4.gif'> </img>"
   ]
  },
  {
   "cell_type": "markdown",
   "metadata": {},
   "source": [
    "<p>\n",
    "    Levando em consideração o ultimo tópico, foi avaliado como interessante verificar a proporção de sobrevivencia em relação as classes viajantes. Será que o motivo todo mundo já conhece, sendo que o de cima vem a subir e o de baixo desce? Piadas ruins a parte, vamos analisar os dados e verificar se há uma resposta interessante.\n",
    "</p>"
   ]
  },
  {
   "cell_type": "code",
   "execution_count": 37,
   "metadata": {},
   "outputs": [
    {
     "data": {
      "image/png": "[encoded data removed]",
      "text/plain": [
       "<Figure size 432x288 with 1 Axes>"
      ]
     },
     "metadata": {
      "needs_background": "light"
     },
     "output_type": "display_data"
    }
   ],
   "source": [
    "top4 = sbn.countplot(data=titanic, x='Classe', hue='Sobrevivente')\n",
    "\n",
    "mplt.title ('Separação de Sobreviventes por Classe \\n %s passageiros' % (titanic.shape[0]))\n",
    "mplt.xlabel ('Classe')\n",
    "mplt.ylabel ('Qtde de Pessoas')\n",
    "mplt.show()"
   ]
  },
  {
   "cell_type": "markdown",
   "metadata": {},
   "source": [
    "<p>\n",
    "    Com essa visualização, podemos notar que proporcionalmente as pessoas da terceira classe foram os mais prejudicados. Pelo que pesquisei isso se deu pela estrutura do próprio navio, onde os botes ficam na parte mais alta e também onde a primeira classe fica, e por sua vez a terceira classe fica na parte mais distante dos botes.\n",
    "</p>"
   ]
  },
  {
   "cell_type": "markdown",
   "metadata": {},
   "source": [
    "<h3>Conclusão</h3>\n",
    "\n"
   ]
  },
  {
   "cell_type": "markdown",
   "metadata": {},
   "source": [
    "<p>\n",
    "    Conclui-se então que a tragédia do Titanic trouxe algumas questões vistas ainda hoje, como por exemplo a desigualdade social e também questões relacionadas a quem estava acompanhado de familiares no momento da tragédia, cabendo ainda outras análises a serem feitas, porém o que salta aos olhos durante todo o trabalho é a quantidade de vidas perdidas no acontecido, vidas de homens, mulheres, crianças, pobres e ricos.\n",
    "</p>"
   ]
  }
 ],
 "metadata": {
  "kernelspec": {
   "display_name": "Python 3",
   "language": "python",
   "name": "python3"
  },
  "language_info": {
   "codemirror_mode": {
    "name": "ipython",
    "version": 3
   },
   "file_extension": ".py",
   "mimetype": "text/x-python",
   "name": "python",
   "nbconvert_exporter": "python",
   "pygments_lexer": "ipython3",
   "version": "3.8.5"
  }
 },
 "nbformat": 4,
 "nbformat_minor": 4
}
